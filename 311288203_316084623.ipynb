{
  "cells": [
    {
      "cell_type": "markdown",
      "metadata": {
        "id": "view-in-github",
        "colab_type": "text"
      },
      "source": [
        "<a href=\"https://colab.research.google.com/github/Ofir-Manor/Long2/blob/master/311288203_316084623.ipynb\" target=\"_parent\"><img src=\"https://colab.research.google.com/assets/colab-badge.svg\" alt=\"Open In Colab\"/></a>"
      ]
    },
    {
      "cell_type": "code",
      "execution_count": 2,
      "id": "4710b5ae-98f7-4d47-aa0e-faa465347375",
      "metadata": {
        "id": "4710b5ae-98f7-4d47-aa0e-faa465347375"
      },
      "outputs": [],
      "source": [
        "import pandas as pd\n",
        "import numpy as np\n",
        "import seaborn as sns\n",
        "from matplotlib.pyplot import matplotlib, subplots\n",
        "import pylab\n",
        "from sklearn.model_selection import train_test_split\n",
        "params = {'xtick.labelsize': 18, 'ytick.labelsize': 18, 'axes.titlesize' : 22, 'axes.labelsize' : 20, 'legend.fontsize': 18, 'legend.title_fontsize': 22, 'figure.titlesize': 24 }\n",
        "pylab.rcParams.update(params)"
      ]
    },
    {
      "cell_type": "code",
      "execution_count": 3,
      "id": "fc98d7d7-ba92-47c6-a631-d1ca91359b5f",
      "metadata": {
        "id": "fc98d7d7-ba92-47c6-a631-d1ca91359b5f",
        "colab": {
          "base_uri": "https://localhost:8080/",
          "height": 363
        },
        "outputId": "8cbeaf78-9eea-413f-a198-8df588f7e4c1"
      },
      "outputs": [
        {
          "output_type": "error",
          "ename": "FileNotFoundError",
          "evalue": "ignored",
          "traceback": [
            "\u001b[0;31m---------------------------------------------------------------------------\u001b[0m",
            "\u001b[0;31mFileNotFoundError\u001b[0m                         Traceback (most recent call last)",
            "\u001b[0;32m<ipython-input-3-517e659b49af>\u001b[0m in \u001b[0;36m<module>\u001b[0;34m\u001b[0m\n\u001b[0;32m----> 1\u001b[0;31m \u001b[0mtrain_csv\u001b[0m\u001b[0;34m=\u001b[0m \u001b[0mpd\u001b[0m\u001b[0;34m.\u001b[0m\u001b[0mread_csv\u001b[0m\u001b[0;34m(\u001b[0m\u001b[0;34m\"train_data_prepare.csv\"\u001b[0m\u001b[0;34m)\u001b[0m\u001b[0;34m\u001b[0m\u001b[0;34m\u001b[0m\u001b[0m\n\u001b[0m\u001b[1;32m      2\u001b[0m \u001b[0mtest_csv\u001b[0m \u001b[0;34m=\u001b[0m \u001b[0mpd\u001b[0m\u001b[0;34m.\u001b[0m\u001b[0mread_csv\u001b[0m\u001b[0;34m(\u001b[0m\u001b[0;34m\"test_data_prepare.csv\"\u001b[0m\u001b[0;34m)\u001b[0m\u001b[0;34m\u001b[0m\u001b[0;34m\u001b[0m\u001b[0m\n\u001b[1;32m      3\u001b[0m \u001b[0mtrain\u001b[0m \u001b[0;34m=\u001b[0m \u001b[0mpd\u001b[0m\u001b[0;34m.\u001b[0m\u001b[0mDataFrame\u001b[0m\u001b[0;34m(\u001b[0m\u001b[0mdata\u001b[0m\u001b[0;34m=\u001b[0m\u001b[0mtrain_csv\u001b[0m\u001b[0;34m)\u001b[0m\u001b[0;34m\u001b[0m\u001b[0;34m\u001b[0m\u001b[0m\n\u001b[1;32m      4\u001b[0m \u001b[0mtest\u001b[0m \u001b[0;34m=\u001b[0m \u001b[0mpd\u001b[0m\u001b[0;34m.\u001b[0m\u001b[0mDataFrame\u001b[0m\u001b[0;34m(\u001b[0m\u001b[0mdata\u001b[0m\u001b[0;34m=\u001b[0m\u001b[0mtest_csv\u001b[0m\u001b[0;34m)\u001b[0m\u001b[0;34m\u001b[0m\u001b[0;34m\u001b[0m\u001b[0m\n",
            "\u001b[0;32m/usr/local/lib/python3.8/dist-packages/pandas/util/_decorators.py\u001b[0m in \u001b[0;36mwrapper\u001b[0;34m(*args, **kwargs)\u001b[0m\n\u001b[1;32m    309\u001b[0m                     \u001b[0mstacklevel\u001b[0m\u001b[0;34m=\u001b[0m\u001b[0mstacklevel\u001b[0m\u001b[0;34m,\u001b[0m\u001b[0;34m\u001b[0m\u001b[0;34m\u001b[0m\u001b[0m\n\u001b[1;32m    310\u001b[0m                 )\n\u001b[0;32m--> 311\u001b[0;31m             \u001b[0;32mreturn\u001b[0m \u001b[0mfunc\u001b[0m\u001b[0;34m(\u001b[0m\u001b[0;34m*\u001b[0m\u001b[0margs\u001b[0m\u001b[0;34m,\u001b[0m \u001b[0;34m**\u001b[0m\u001b[0mkwargs\u001b[0m\u001b[0;34m)\u001b[0m\u001b[0;34m\u001b[0m\u001b[0;34m\u001b[0m\u001b[0m\n\u001b[0m\u001b[1;32m    312\u001b[0m \u001b[0;34m\u001b[0m\u001b[0m\n\u001b[1;32m    313\u001b[0m         \u001b[0;32mreturn\u001b[0m \u001b[0mwrapper\u001b[0m\u001b[0;34m\u001b[0m\u001b[0;34m\u001b[0m\u001b[0m\n",
            "\u001b[0;32m/usr/local/lib/python3.8/dist-packages/pandas/io/parsers/readers.py\u001b[0m in \u001b[0;36mread_csv\u001b[0;34m(filepath_or_buffer, sep, delimiter, header, names, index_col, usecols, squeeze, prefix, mangle_dupe_cols, dtype, engine, converters, true_values, false_values, skipinitialspace, skiprows, skipfooter, nrows, na_values, keep_default_na, na_filter, verbose, skip_blank_lines, parse_dates, infer_datetime_format, keep_date_col, date_parser, dayfirst, cache_dates, iterator, chunksize, compression, thousands, decimal, lineterminator, quotechar, quoting, doublequote, escapechar, comment, encoding, encoding_errors, dialect, error_bad_lines, warn_bad_lines, on_bad_lines, delim_whitespace, low_memory, memory_map, float_precision, storage_options)\u001b[0m\n\u001b[1;32m    584\u001b[0m     \u001b[0mkwds\u001b[0m\u001b[0;34m.\u001b[0m\u001b[0mupdate\u001b[0m\u001b[0;34m(\u001b[0m\u001b[0mkwds_defaults\u001b[0m\u001b[0;34m)\u001b[0m\u001b[0;34m\u001b[0m\u001b[0;34m\u001b[0m\u001b[0m\n\u001b[1;32m    585\u001b[0m \u001b[0;34m\u001b[0m\u001b[0m\n\u001b[0;32m--> 586\u001b[0;31m     \u001b[0;32mreturn\u001b[0m \u001b[0m_read\u001b[0m\u001b[0;34m(\u001b[0m\u001b[0mfilepath_or_buffer\u001b[0m\u001b[0;34m,\u001b[0m \u001b[0mkwds\u001b[0m\u001b[0;34m)\u001b[0m\u001b[0;34m\u001b[0m\u001b[0;34m\u001b[0m\u001b[0m\n\u001b[0m\u001b[1;32m    587\u001b[0m \u001b[0;34m\u001b[0m\u001b[0m\n\u001b[1;32m    588\u001b[0m \u001b[0;34m\u001b[0m\u001b[0m\n",
            "\u001b[0;32m/usr/local/lib/python3.8/dist-packages/pandas/io/parsers/readers.py\u001b[0m in \u001b[0;36m_read\u001b[0;34m(filepath_or_buffer, kwds)\u001b[0m\n\u001b[1;32m    480\u001b[0m \u001b[0;34m\u001b[0m\u001b[0m\n\u001b[1;32m    481\u001b[0m     \u001b[0;31m# Create the parser.\u001b[0m\u001b[0;34m\u001b[0m\u001b[0;34m\u001b[0m\u001b[0;34m\u001b[0m\u001b[0m\n\u001b[0;32m--> 482\u001b[0;31m     \u001b[0mparser\u001b[0m \u001b[0;34m=\u001b[0m \u001b[0mTextFileReader\u001b[0m\u001b[0;34m(\u001b[0m\u001b[0mfilepath_or_buffer\u001b[0m\u001b[0;34m,\u001b[0m \u001b[0;34m**\u001b[0m\u001b[0mkwds\u001b[0m\u001b[0;34m)\u001b[0m\u001b[0;34m\u001b[0m\u001b[0;34m\u001b[0m\u001b[0m\n\u001b[0m\u001b[1;32m    483\u001b[0m \u001b[0;34m\u001b[0m\u001b[0m\n\u001b[1;32m    484\u001b[0m     \u001b[0;32mif\u001b[0m \u001b[0mchunksize\u001b[0m \u001b[0;32mor\u001b[0m \u001b[0miterator\u001b[0m\u001b[0;34m:\u001b[0m\u001b[0;34m\u001b[0m\u001b[0;34m\u001b[0m\u001b[0m\n",
            "\u001b[0;32m/usr/local/lib/python3.8/dist-packages/pandas/io/parsers/readers.py\u001b[0m in \u001b[0;36m__init__\u001b[0;34m(self, f, engine, **kwds)\u001b[0m\n\u001b[1;32m    809\u001b[0m             \u001b[0mself\u001b[0m\u001b[0;34m.\u001b[0m\u001b[0moptions\u001b[0m\u001b[0;34m[\u001b[0m\u001b[0;34m\"has_index_names\"\u001b[0m\u001b[0;34m]\u001b[0m \u001b[0;34m=\u001b[0m \u001b[0mkwds\u001b[0m\u001b[0;34m[\u001b[0m\u001b[0;34m\"has_index_names\"\u001b[0m\u001b[0;34m]\u001b[0m\u001b[0;34m\u001b[0m\u001b[0;34m\u001b[0m\u001b[0m\n\u001b[1;32m    810\u001b[0m \u001b[0;34m\u001b[0m\u001b[0m\n\u001b[0;32m--> 811\u001b[0;31m         \u001b[0mself\u001b[0m\u001b[0;34m.\u001b[0m\u001b[0m_engine\u001b[0m \u001b[0;34m=\u001b[0m \u001b[0mself\u001b[0m\u001b[0;34m.\u001b[0m\u001b[0m_make_engine\u001b[0m\u001b[0;34m(\u001b[0m\u001b[0mself\u001b[0m\u001b[0;34m.\u001b[0m\u001b[0mengine\u001b[0m\u001b[0;34m)\u001b[0m\u001b[0;34m\u001b[0m\u001b[0;34m\u001b[0m\u001b[0m\n\u001b[0m\u001b[1;32m    812\u001b[0m \u001b[0;34m\u001b[0m\u001b[0m\n\u001b[1;32m    813\u001b[0m     \u001b[0;32mdef\u001b[0m \u001b[0mclose\u001b[0m\u001b[0;34m(\u001b[0m\u001b[0mself\u001b[0m\u001b[0;34m)\u001b[0m\u001b[0;34m:\u001b[0m\u001b[0;34m\u001b[0m\u001b[0;34m\u001b[0m\u001b[0m\n",
            "\u001b[0;32m/usr/local/lib/python3.8/dist-packages/pandas/io/parsers/readers.py\u001b[0m in \u001b[0;36m_make_engine\u001b[0;34m(self, engine)\u001b[0m\n\u001b[1;32m   1038\u001b[0m             )\n\u001b[1;32m   1039\u001b[0m         \u001b[0;31m# error: Too many arguments for \"ParserBase\"\u001b[0m\u001b[0;34m\u001b[0m\u001b[0;34m\u001b[0m\u001b[0;34m\u001b[0m\u001b[0m\n\u001b[0;32m-> 1040\u001b[0;31m         \u001b[0;32mreturn\u001b[0m \u001b[0mmapping\u001b[0m\u001b[0;34m[\u001b[0m\u001b[0mengine\u001b[0m\u001b[0;34m]\u001b[0m\u001b[0;34m(\u001b[0m\u001b[0mself\u001b[0m\u001b[0;34m.\u001b[0m\u001b[0mf\u001b[0m\u001b[0;34m,\u001b[0m \u001b[0;34m**\u001b[0m\u001b[0mself\u001b[0m\u001b[0;34m.\u001b[0m\u001b[0moptions\u001b[0m\u001b[0;34m)\u001b[0m  \u001b[0;31m# type: ignore[call-arg]\u001b[0m\u001b[0;34m\u001b[0m\u001b[0;34m\u001b[0m\u001b[0m\n\u001b[0m\u001b[1;32m   1041\u001b[0m \u001b[0;34m\u001b[0m\u001b[0m\n\u001b[1;32m   1042\u001b[0m     \u001b[0;32mdef\u001b[0m \u001b[0m_failover_to_python\u001b[0m\u001b[0;34m(\u001b[0m\u001b[0mself\u001b[0m\u001b[0;34m)\u001b[0m\u001b[0;34m:\u001b[0m\u001b[0;34m\u001b[0m\u001b[0;34m\u001b[0m\u001b[0m\n",
            "\u001b[0;32m/usr/local/lib/python3.8/dist-packages/pandas/io/parsers/c_parser_wrapper.py\u001b[0m in \u001b[0;36m__init__\u001b[0;34m(self, src, **kwds)\u001b[0m\n\u001b[1;32m     49\u001b[0m \u001b[0;34m\u001b[0m\u001b[0m\n\u001b[1;32m     50\u001b[0m         \u001b[0;31m# open handles\u001b[0m\u001b[0;34m\u001b[0m\u001b[0;34m\u001b[0m\u001b[0;34m\u001b[0m\u001b[0m\n\u001b[0;32m---> 51\u001b[0;31m         \u001b[0mself\u001b[0m\u001b[0;34m.\u001b[0m\u001b[0m_open_handles\u001b[0m\u001b[0;34m(\u001b[0m\u001b[0msrc\u001b[0m\u001b[0;34m,\u001b[0m \u001b[0mkwds\u001b[0m\u001b[0;34m)\u001b[0m\u001b[0;34m\u001b[0m\u001b[0;34m\u001b[0m\u001b[0m\n\u001b[0m\u001b[1;32m     52\u001b[0m         \u001b[0;32massert\u001b[0m \u001b[0mself\u001b[0m\u001b[0;34m.\u001b[0m\u001b[0mhandles\u001b[0m \u001b[0;32mis\u001b[0m \u001b[0;32mnot\u001b[0m \u001b[0;32mNone\u001b[0m\u001b[0;34m\u001b[0m\u001b[0;34m\u001b[0m\u001b[0m\n\u001b[1;32m     53\u001b[0m \u001b[0;34m\u001b[0m\u001b[0m\n",
            "\u001b[0;32m/usr/local/lib/python3.8/dist-packages/pandas/io/parsers/base_parser.py\u001b[0m in \u001b[0;36m_open_handles\u001b[0;34m(self, src, kwds)\u001b[0m\n\u001b[1;32m    220\u001b[0m         \u001b[0mLet\u001b[0m \u001b[0mthe\u001b[0m \u001b[0mreaders\u001b[0m \u001b[0mopen\u001b[0m \u001b[0mIOHandles\u001b[0m \u001b[0mafter\u001b[0m \u001b[0mthey\u001b[0m \u001b[0mare\u001b[0m \u001b[0mdone\u001b[0m \u001b[0;32mwith\u001b[0m \u001b[0mtheir\u001b[0m \u001b[0mpotential\u001b[0m \u001b[0mraises\u001b[0m\u001b[0;34m.\u001b[0m\u001b[0;34m\u001b[0m\u001b[0;34m\u001b[0m\u001b[0m\n\u001b[1;32m    221\u001b[0m         \"\"\"\n\u001b[0;32m--> 222\u001b[0;31m         self.handles = get_handle(\n\u001b[0m\u001b[1;32m    223\u001b[0m             \u001b[0msrc\u001b[0m\u001b[0;34m,\u001b[0m\u001b[0;34m\u001b[0m\u001b[0;34m\u001b[0m\u001b[0m\n\u001b[1;32m    224\u001b[0m             \u001b[0;34m\"r\"\u001b[0m\u001b[0;34m,\u001b[0m\u001b[0;34m\u001b[0m\u001b[0;34m\u001b[0m\u001b[0m\n",
            "\u001b[0;32m/usr/local/lib/python3.8/dist-packages/pandas/io/common.py\u001b[0m in \u001b[0;36mget_handle\u001b[0;34m(path_or_buf, mode, encoding, compression, memory_map, is_text, errors, storage_options)\u001b[0m\n\u001b[1;32m    700\u001b[0m         \u001b[0;32mif\u001b[0m \u001b[0mioargs\u001b[0m\u001b[0;34m.\u001b[0m\u001b[0mencoding\u001b[0m \u001b[0;32mand\u001b[0m \u001b[0;34m\"b\"\u001b[0m \u001b[0;32mnot\u001b[0m \u001b[0;32min\u001b[0m \u001b[0mioargs\u001b[0m\u001b[0;34m.\u001b[0m\u001b[0mmode\u001b[0m\u001b[0;34m:\u001b[0m\u001b[0;34m\u001b[0m\u001b[0;34m\u001b[0m\u001b[0m\n\u001b[1;32m    701\u001b[0m             \u001b[0;31m# Encoding\u001b[0m\u001b[0;34m\u001b[0m\u001b[0;34m\u001b[0m\u001b[0;34m\u001b[0m\u001b[0m\n\u001b[0;32m--> 702\u001b[0;31m             handle = open(\n\u001b[0m\u001b[1;32m    703\u001b[0m                 \u001b[0mhandle\u001b[0m\u001b[0;34m,\u001b[0m\u001b[0;34m\u001b[0m\u001b[0;34m\u001b[0m\u001b[0m\n\u001b[1;32m    704\u001b[0m                 \u001b[0mioargs\u001b[0m\u001b[0;34m.\u001b[0m\u001b[0mmode\u001b[0m\u001b[0;34m,\u001b[0m\u001b[0;34m\u001b[0m\u001b[0;34m\u001b[0m\u001b[0m\n",
            "\u001b[0;31mFileNotFoundError\u001b[0m: [Errno 2] No such file or directory: 'train_data_prepare.csv'"
          ]
        }
      ],
      "source": [
        "train_csv= pd.read_csv(\"train_data_prepare.csv\")\n",
        "test_csv = pd.read_csv(\"test_data_prepare.csv\")\n",
        "train = pd.DataFrame(data=train_csv)\n",
        "test = pd.DataFrame(data=test_csv)"
      ]
    },
    {
      "cell_type": "markdown",
      "id": "fe8cfb7a-a0f6-4365-a7ee-9266bbb3ff9c",
      "metadata": {
        "id": "fe8cfb7a-a0f6-4365-a7ee-9266bbb3ff9c"
      },
      "source": [
        "Part 1: Basic model selection with k-Nearest Neighbors"
      ]
    },
    {
      "cell_type": "markdown",
      "id": "86dab325-b0a6-4f9e-80d9-e5fde57dafd5",
      "metadata": {
        "id": "86dab325-b0a6-4f9e-80d9-e5fde57dafd5"
      },
      "source": [
        "Q1"
      ]
    },
    {
      "cell_type": "code",
      "execution_count": null,
      "id": "bff41926-afd1-41c4-b6c6-9422d24ede02",
      "metadata": {
        "id": "bff41926-afd1-41c4-b6c6-9422d24ede02"
      },
      "outputs": [],
      "source": [
        "from sklearn.neighbors import KNeighborsClassifier\n",
        "from visualize_clf import visualize_clf\n",
        "train_mod = train.copy()[[\"PCR_01\", \"PCR_02\", \"spread\"]]\n",
        "test_mod = test.copy()[[\"PCR_01\", \"PCR_02\", \"spread\"]]\n",
        "g = sns.jointplot(x=\"PCR_01\",\n",
        "                  y=\"PCR_02\",\n",
        "                  data=train_mod,\n",
        "                  hue='spread',\n",
        "                  palette='colorblind')\n",
        "g.fig.suptitle(\"PCR_01 and PCR_02 jointplot (Target=Spread)\",\n",
        "               fontsize='medium', fontweight='semibold')\n",
        "g.fig.tight_layout()\n",
        "g.ax_joint.grid(alpha=0.5)"
      ]
    },
    {
      "cell_type": "markdown",
      "id": "62dcc96a-1343-4958-8383-ec2421cfe9a8",
      "metadata": {
        "id": "62dcc96a-1343-4958-8383-ec2421cfe9a8"
      },
      "source": [
        "Q2"
      ]
    },
    {
      "cell_type": "code",
      "execution_count": null,
      "id": "e905482a-06ea-444b-8673-a2554288644f",
      "metadata": {
        "id": "e905482a-06ea-444b-8673-a2554288644f"
      },
      "outputs": [],
      "source": [
        "train_mod_x = train_mod[[\"PCR_01\", \"PCR_02\"]]\n",
        "train_mod_y = train_mod[\"spread\"]\n",
        "kNN = KNeighborsClassifier(n_neighbors=1)\n",
        "kNN.fit(X=train_mod_x.values, y=train_mod_y.values)\n",
        "visualize_clf(clf=kNN, X=train_mod_x, Y=train_mod_y, title=\"kNN Visualization\", xlabel=\"PCR_01 (MinMax Normalized)\", ylabel=\"PCR_02 (MinMax Normalized)\")"
      ]
    },
    {
      "cell_type": "markdown",
      "id": "f96064d6-97a1-4ac6-a8e3-db1798c0f02c",
      "metadata": {
        "id": "f96064d6-97a1-4ac6-a8e3-db1798c0f02c"
      },
      "source": [
        "Q3"
      ]
    },
    {
      "cell_type": "code",
      "execution_count": null,
      "id": "43043825-a836-4996-bf5e-0e1400b6112c",
      "metadata": {
        "id": "43043825-a836-4996-bf5e-0e1400b6112c"
      },
      "outputs": [],
      "source": [
        "from sklearn.model_selection import cross_validate\n",
        "import matplotlib.pyplot as plt\n",
        "k_list = list(range(1, 20, 2)) + list(range(20, 871, 85))\n",
        "cv_train_mean = np.array([])\n",
        "cv_val_mean = np.array([])\n",
        "for k in k_list:\n",
        "    kNN_cv = KNeighborsClassifier(n_neighbors=k)\n",
        "    cv_results = cross_validate(estimator = kNN_cv, X=train_mod_x, y=train_mod_y, cv=8, return_train_score=True)\n",
        "    cv_train_mean = np.append(cv_train_mean, np.array(cv_results['train_score']).mean())\n",
        "    cv_val_mean = np.append(cv_val_mean, np.array(cv_results['test_score']).mean())\n"
      ]
    },
    {
      "cell_type": "code",
      "execution_count": null,
      "id": "14e2fdcf-4cda-42ff-acc0-fe0a01826487",
      "metadata": {
        "id": "14e2fdcf-4cda-42ff-acc0-fe0a01826487"
      },
      "outputs": [],
      "source": [
        "train_line = plt.semilogx(k_list,cv_train_mean, label=\"Training Score\", marker='o')\n",
        "val_line = plt.semilogx(k_list,cv_val_mean, label=\"Validation Score\", marker='o')\n",
        "plt.grid(visible=True)\n",
        "plt.xlabel(\"K Nearest Neighbors\")\n",
        "plt.ylabel(\"Accuracy\")\n",
        "plt.title(\"kNN Cross Validation Plot (PCR_01 and PCR_02)\")\n",
        "plt.legend()\n",
        "plt.show()"
      ]
    },
    {
      "cell_type": "code",
      "execution_count": null,
      "id": "63a24c68-1092-474f-8e08-743bbf95a67f",
      "metadata": {
        "id": "63a24c68-1092-474f-8e08-743bbf95a67f"
      },
      "outputs": [],
      "source": [
        "k_opt_idx = 9\n",
        "k_opt = k_list[k_opt_idx]\n",
        "print(f\"The best k found in out cross validation is: {k_opt}\")\n",
        "print(f\"The training accuracy with k={k_opt} is {cv_train_mean[k_opt_idx]}\")\n",
        "print(f\"The validation accuracy with k={k_opt} is {cv_val_mean[k_opt_idx]}\")"
      ]
    },
    {
      "cell_type": "markdown",
      "id": "30019235-9df0-44b5-bdd4-68134a461b97",
      "metadata": {
        "id": "30019235-9df0-44b5-bdd4-68134a461b97"
      },
      "source": [
        "Q4"
      ]
    },
    {
      "cell_type": "code",
      "execution_count": null,
      "id": "aa097acc-d730-4df9-aad6-46833cae3d28",
      "metadata": {
        "id": "aa097acc-d730-4df9-aad6-46833cae3d28"
      },
      "outputs": [],
      "source": [
        "kNN_opt = KNeighborsClassifier(n_neighbors=k_opt)\n",
        "kNN_opt.fit(X=train_mod_x.values, y=train_mod_y.values)\n",
        "visualize_clf(clf=kNN_opt, X=train_mod_x, Y=train_mod_y, title=\"kNN Visualization (Best k)\", xlabel=\"PCR_01 (MinMax Normalized)\", ylabel=\"PCR_02 (MinMax Normalized)\")"
      ]
    },
    {
      "cell_type": "code",
      "execution_count": null,
      "id": "117f1e30-86a2-4221-9270-31ac8c07d310",
      "metadata": {
        "id": "117f1e30-86a2-4221-9270-31ac8c07d310"
      },
      "outputs": [],
      "source": [
        "test_mod_x = test[\"PCR_01\", \"PCR_02\"].copy()\n",
        "test_mod_y = test[\"spread\"].copy()\n",
        "knn_opt.score(X=test_mod_x, y=test_mod_y)"
      ]
    },
    {
      "cell_type": "markdown",
      "id": "64ead7ae-c026-42f2-9d26-6cdf7bb17b26",
      "metadata": {
        "id": "64ead7ae-c026-42f2-9d26-6cdf7bb17b26"
      },
      "source": [
        "Q5"
      ]
    },
    {
      "cell_type": "code",
      "execution_count": null,
      "id": "e0f4186f-fef3-4860-9ce5-2c0dcfd3a2e8",
      "metadata": {
        "id": "e0f4186f-fef3-4860-9ce5-2c0dcfd3a2e8"
      },
      "outputs": [],
      "source": [
        "kNN1 =  KNeighborsClassifier(n_neighbors=1)\n",
        "kNN1.fit(X=train_mod_x.values, y=train_mod_y.values)\n",
        "visualize_clf(clf=kNN1, X=train_mod_x, Y=train_mod_y, title=\"kNN Visualization (k=1)\", xlabel=\"PCR_01 (MinMax Normalized)\", ylabel=\"PCR_02 (MinMax Normalized)\")"
      ]
    },
    {
      "cell_type": "code",
      "execution_count": null,
      "id": "4c2235c1-0a4b-4f71-960b-504bb13e76e0",
      "metadata": {
        "id": "4c2235c1-0a4b-4f71-960b-504bb13e76e0"
      },
      "outputs": [],
      "source": [
        "kNN501 =  KNeighborsClassifier(n_neighbors=501)\n",
        "kNN501.fit(X=train_mod_x.values, y=train_mod_y.values)\n",
        "visualize_clf(clf=kNN501, X=train_mod_x, Y=train_mod_y, title=\"kNN Visualization (k=501)\", xlabel=\"PCR_01 (MinMax Normalized)\", ylabel=\"PCR_02 (MinMax Normalized)\")"
      ]
    },
    {
      "cell_type": "markdown",
      "id": "570238ff-02f0-40ac-971b-ebe91f3f1a99",
      "metadata": {
        "id": "570238ff-02f0-40ac-971b-ebe91f3f1a99"
      },
      "source": [
        "Q6"
      ]
    },
    {
      "cell_type": "code",
      "execution_count": null,
      "id": "f4161ea8-8f55-4e1b-b408-ad41b94a5b66",
      "metadata": {
        "id": "f4161ea8-8f55-4e1b-b408-ad41b94a5b66"
      },
      "outputs": [],
      "source": [
        "train_x = train[train.columns.difference(['spread', 'risk'])]\n",
        "train_y = train[\"spread\"]\n",
        "cv_train_mean = np.array([])\n",
        "cv_val_mean = np.array([])\n",
        "for k in k_list:\n",
        "    kNN_cv = KNeighborsClassifier(n_neighbors=k)\n",
        "    cv_results = cross_validate(estimator = kNN_cv, X=train_x, y=train_y, cv=8, return_train_score=True)\n",
        "    cv_train_mean = np.append(cv_train_mean, np.array(cv_results['train_score']).mean())\n",
        "    cv_val_mean = np.append(cv_val_mean, np.array(cv_results['test_score']).mean())"
      ]
    },
    {
      "cell_type": "code",
      "execution_count": null,
      "id": "86cd9297-b4de-42b1-aeb2-ec9892f18d90",
      "metadata": {
        "id": "86cd9297-b4de-42b1-aeb2-ec9892f18d90"
      },
      "outputs": [],
      "source": [
        "train_line = plt.semilogx(k_list,cv_train_mean, label=\"Training Score\", marker='o')\n",
        "val_line = plt.semilogx(k_list,cv_val_mean, label=\"Validation Score\", marker='o')\n",
        "plt.grid(visible=True)\n",
        "plt.xlabel(\"K Nearest Neighbors\")\n",
        "plt.ylabel(\"Accuracy\")\n",
        "plt.title(\"kNN Cross Validation Plot (All features)\")\n",
        "plt.legend()\n",
        "plt.show()"
      ]
    },
    {
      "cell_type": "code",
      "execution_count": null,
      "id": "8ec89438-97a4-45d9-9ddd-cced072ca4ac",
      "metadata": {
        "id": "8ec89438-97a4-45d9-9ddd-cced072ca4ac"
      },
      "outputs": [],
      "source": [
        "k_opt_idx = 13\n",
        "k_opt = k_list[k_opt_idx]\n",
        "print(f\"The best k found in out cross validation is: {k_opt}\")\n",
        "print(f\"The training accuracy with k={k_opt} is {cv_train_mean[k_opt_idx]}\")\n",
        "print(f\"The validation accuracy with k={k_opt} is {cv_val_mean[k_opt_idx]}\")"
      ]
    },
    {
      "cell_type": "markdown",
      "id": "3fa9b3bf-d5a3-4f3b-bd5b-fd9682aca9e8",
      "metadata": {
        "id": "3fa9b3bf-d5a3-4f3b-bd5b-fd9682aca9e8"
      },
      "source": [
        "Part 2: Decision trees"
      ]
    },
    {
      "cell_type": "markdown",
      "id": "7970df26-7197-4b96-b7e3-c2f0bb73ecc2",
      "metadata": {
        "id": "7970df26-7197-4b96-b7e3-c2f0bb73ecc2"
      },
      "source": [
        "Q7"
      ]
    },
    {
      "cell_type": "code",
      "execution_count": null,
      "id": "e12f0650-7f0d-49b0-811d-1f71b3b73feb",
      "metadata": {
        "id": "e12f0650-7f0d-49b0-811d-1f71b3b73feb"
      },
      "outputs": [],
      "source": [
        "from sklearn.tree import DecisionTreeClassifier, plot_tree\n",
        "dec_tree = DecisionTreeClassifier(criterion=\"entropy\", max_depth=4)\n",
        "train_x = train[train.columns.difference(['spread', 'risk'])]\n",
        "train_y = train['risk']\n",
        "dec_tree.fit(X=train_x, y=train_y)\n",
        "train_score = dec_tree.score(X=train_x, y=train_y)\n",
        "print(f\"The training accuracy is {train_score}\")"
      ]
    },
    {
      "cell_type": "code",
      "execution_count": null,
      "id": "b413ddca-e8fb-4f33-ae88-3064cfe49145",
      "metadata": {
        "id": "b413ddca-e8fb-4f33-ae88-3064cfe49145"
      },
      "outputs": [],
      "source": [
        "plt.figure(figsize=(30,10))\n",
        "plot_tree(decision_tree=dec_tree,\n",
        "          filled=True,\n",
        "          feature_names=train.columns.difference(['spread', 'risk']),\n",
        "          class_names=[\"-1\", \"1\"],\n",
        "        fontsize=11)\n",
        "plt.show()"
      ]
    },
    {
      "cell_type": "markdown",
      "id": "55f37c56-e197-42a8-abc2-25b33fca79f0",
      "metadata": {
        "id": "55f37c56-e197-42a8-abc2-25b33fca79f0"
      },
      "source": [
        "Q8 Need some help with this"
      ]
    },
    {
      "cell_type": "code",
      "execution_count": null,
      "id": "646d60cb-5aff-4973-9980-f0c876414586",
      "metadata": {
        "id": "646d60cb-5aff-4973-9980-f0c876414586"
      },
      "outputs": [],
      "source": [
        "from sklearn.model_selection import GridSearchCV\n",
        "min_samples_list = list(range(10,25,1))\n",
        "max_depth_list = list(range(5,13,1))\n",
        "parameters = {'max_depth':max_depth_list, 'min_samples_split':min_samples_list}\n",
        "dec_tree = DecisionTreeClassifier(criterion=\"entropy\")\n",
        "grid_search = GridSearchCV(estimator=dec_tree, param_grid=parameters,cv=8,return_train_score=True)\n",
        "grid_search.fit(X=train_x, y=train_y)"
      ]
    },
    {
      "cell_type": "code",
      "execution_count": null,
      "id": "53d4b0ed-956b-496a-b1d5-bbeaf55df9b7",
      "metadata": {
        "id": "53d4b0ed-956b-496a-b1d5-bbeaf55df9b7"
      },
      "outputs": [],
      "source": [
        "mean_train_score = grid_search.cv_results_[\"mean_train_score\"].reshape(len(max_depth_list),len(min_samples_list))\n",
        "mean_test_score = grid_search.cv_results_[\"mean_test_score\"].reshape(len(max_depth_list),len(min_samples_list))"
      ]
    },
    {
      "cell_type": "code",
      "execution_count": null,
      "id": "3db8c129-1494-49fc-9efb-b23f6175d059",
      "metadata": {
        "id": "3db8c129-1494-49fc-9efb-b23f6175d059"
      },
      "outputs": [],
      "source": [
        "plt.figure(figsize=(10,15))\n",
        "ax_test = sns.heatmap(mean_test_score, annot=True, xticklabels=min_samples_list, yticklabels=max_depth_list)\n",
        "ax_test.set(xlabel=\"min_samples_leaf\", ylabel=\"max_depth\")\n",
        "ax_test.invert_yaxis()\n",
        "ax_test.set_title(\"Mean Validation Accuracy\")"
      ]
    },
    {
      "cell_type": "code",
      "execution_count": null,
      "id": "2ee6aabd-dd73-4e73-9ce5-aac0d5759f86",
      "metadata": {
        "id": "2ee6aabd-dd73-4e73-9ce5-aac0d5759f86"
      },
      "outputs": [],
      "source": [
        "plt.figure(figsize=(10,18))\n",
        "ax_train = sns.heatmap(mean_train_score, annot=True, xticklabels=min_samples_list, yticklabels=max_depth_list)\n",
        "ax_train.set(xlabel=\"min_samples_leaf\", ylabel=\"max_depth\")\n",
        "ax_train.invert_yaxis()\n",
        "ax_train.set_title(\"Mean Training Accuracy\")"
      ]
    },
    {
      "cell_type": "code",
      "execution_count": null,
      "id": "25147747-ad3e-4193-a99f-2434283ffb8c",
      "metadata": {
        "id": "25147747-ad3e-4193-a99f-2434283ffb8c"
      },
      "outputs": [],
      "source": []
    }
  ],
  "metadata": {
    "kernelspec": {
      "display_name": "Python 3 (ipykernel)",
      "language": "python",
      "name": "python3"
    },
    "language_info": {
      "codemirror_mode": {
        "name": "ipython",
        "version": 3
      },
      "file_extension": ".py",
      "mimetype": "text/x-python",
      "name": "python",
      "nbconvert_exporter": "python",
      "pygments_lexer": "ipython3",
      "version": "3.9.12"
    },
    "colab": {
      "provenance": [],
      "include_colab_link": true
    }
  },
  "nbformat": 4,
  "nbformat_minor": 5
}